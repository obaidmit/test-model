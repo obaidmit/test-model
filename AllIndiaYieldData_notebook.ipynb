{
 "cells": [
  {
   "cell_type": "markdown",
   "metadata": {},
   "source": [
    "### modules"
   ]
  },
  {
   "cell_type": "code",
   "execution_count": 15,
   "metadata": {},
   "outputs": [],
   "source": [
    "import json\n",
    "import pandas as pd\n",
    "import numpy as np\n",
    "import matplotlib.pyplot as plt\n",
    "import seaborn as sns\n",
    "import sklearn\n",
    "import joblib\n",
    "from sklearn.preprocessing import LabelEncoder\n",
    "from sklearn.model_selection import train_test_split\n",
    "from sklearn.ensemble import RandomForestRegressor\n",
    "from sklearn.metrics import mean_absolute_error\n",
    "from sklearn.metrics import mean_squared_error\n",
    "from sklearn.metrics import r2_score\n",
    "from sklearn.inspection import permutation_importance"
   ]
  },
  {
   "cell_type": "markdown",
   "metadata": {},
   "source": [
    "### load dataset"
   ]
  },
  {
   "cell_type": "code",
   "execution_count": 16,
   "metadata": {},
   "outputs": [],
   "source": [
    "original_df = pd.read_csv(\"apy.csv\")"
   ]
  },
  {
   "cell_type": "code",
   "execution_count": 17,
   "metadata": {},
   "outputs": [],
   "source": [
    "df = original_df.copy()"
   ]
  },
  {
   "cell_type": "code",
   "execution_count": 18,
   "metadata": {},
   "outputs": [
    {
     "data": {
      "text/html": [
       "<div>\n",
       "<style scoped>\n",
       "    .dataframe tbody tr th:only-of-type {\n",
       "        vertical-align: middle;\n",
       "    }\n",
       "\n",
       "    .dataframe tbody tr th {\n",
       "        vertical-align: top;\n",
       "    }\n",
       "\n",
       "    .dataframe thead th {\n",
       "        text-align: right;\n",
       "    }\n",
       "</style>\n",
       "<table border=\"1\" class=\"dataframe\">\n",
       "  <thead>\n",
       "    <tr style=\"text-align: right;\">\n",
       "      <th></th>\n",
       "      <th>State_Name</th>\n",
       "      <th>District_Name</th>\n",
       "      <th>Crop_Year</th>\n",
       "      <th>Season</th>\n",
       "      <th>Crop</th>\n",
       "      <th>Area</th>\n",
       "      <th>Production</th>\n",
       "    </tr>\n",
       "  </thead>\n",
       "  <tbody>\n",
       "    <tr>\n",
       "      <th>0</th>\n",
       "      <td>Andaman and Nicobar Islands</td>\n",
       "      <td>NICOBARS</td>\n",
       "      <td>2000</td>\n",
       "      <td>Kharif</td>\n",
       "      <td>Arecanut</td>\n",
       "      <td>1254.0</td>\n",
       "      <td>2000.0</td>\n",
       "    </tr>\n",
       "    <tr>\n",
       "      <th>1</th>\n",
       "      <td>Andaman and Nicobar Islands</td>\n",
       "      <td>NICOBARS</td>\n",
       "      <td>2000</td>\n",
       "      <td>Kharif</td>\n",
       "      <td>Other Kharif pulses</td>\n",
       "      <td>2.0</td>\n",
       "      <td>1.0</td>\n",
       "    </tr>\n",
       "    <tr>\n",
       "      <th>2</th>\n",
       "      <td>Andaman and Nicobar Islands</td>\n",
       "      <td>NICOBARS</td>\n",
       "      <td>2000</td>\n",
       "      <td>Kharif</td>\n",
       "      <td>Rice</td>\n",
       "      <td>102.0</td>\n",
       "      <td>321.0</td>\n",
       "    </tr>\n",
       "    <tr>\n",
       "      <th>3</th>\n",
       "      <td>Andaman and Nicobar Islands</td>\n",
       "      <td>NICOBARS</td>\n",
       "      <td>2000</td>\n",
       "      <td>Whole Year</td>\n",
       "      <td>Banana</td>\n",
       "      <td>176.0</td>\n",
       "      <td>641.0</td>\n",
       "    </tr>\n",
       "    <tr>\n",
       "      <th>4</th>\n",
       "      <td>Andaman and Nicobar Islands</td>\n",
       "      <td>NICOBARS</td>\n",
       "      <td>2000</td>\n",
       "      <td>Whole Year</td>\n",
       "      <td>Cashewnut</td>\n",
       "      <td>720.0</td>\n",
       "      <td>165.0</td>\n",
       "    </tr>\n",
       "  </tbody>\n",
       "</table>\n",
       "</div>"
      ],
      "text/plain": [
       "                    State_Name District_Name  Crop_Year       Season  \\\n",
       "0  Andaman and Nicobar Islands      NICOBARS       2000  Kharif        \n",
       "1  Andaman and Nicobar Islands      NICOBARS       2000  Kharif        \n",
       "2  Andaman and Nicobar Islands      NICOBARS       2000  Kharif        \n",
       "3  Andaman and Nicobar Islands      NICOBARS       2000  Whole Year    \n",
       "4  Andaman and Nicobar Islands      NICOBARS       2000  Whole Year    \n",
       "\n",
       "                  Crop    Area  Production  \n",
       "0             Arecanut  1254.0      2000.0  \n",
       "1  Other Kharif pulses     2.0         1.0  \n",
       "2                 Rice   102.0       321.0  \n",
       "3               Banana   176.0       641.0  \n",
       "4            Cashewnut   720.0       165.0  "
      ]
     },
     "execution_count": 18,
     "metadata": {},
     "output_type": "execute_result"
    }
   ],
   "source": [
    "df.head()"
   ]
  },
  {
   "cell_type": "markdown",
   "metadata": {},
   "source": [
    "### more insights about dataset"
   ]
  },
  {
   "cell_type": "code",
   "execution_count": 19,
   "metadata": {},
   "outputs": [
    {
     "data": {
      "text/plain": [
       "(246091, 7)"
      ]
     },
     "execution_count": 19,
     "metadata": {},
     "output_type": "execute_result"
    }
   ],
   "source": [
    "df.shape"
   ]
  },
  {
   "cell_type": "code",
   "execution_count": 20,
   "metadata": {},
   "outputs": [
    {
     "name": "stdout",
     "output_type": "stream",
     "text": [
      "<class 'pandas.core.frame.DataFrame'>\n",
      "RangeIndex: 246091 entries, 0 to 246090\n",
      "Data columns (total 7 columns):\n",
      " #   Column         Non-Null Count   Dtype  \n",
      "---  ------         --------------   -----  \n",
      " 0   State_Name     246091 non-null  object \n",
      " 1   District_Name  246091 non-null  object \n",
      " 2   Crop_Year      246091 non-null  int64  \n",
      " 3   Season         246091 non-null  object \n",
      " 4   Crop           246091 non-null  object \n",
      " 5   Area           246091 non-null  float64\n",
      " 6   Production     242361 non-null  float64\n",
      "dtypes: float64(2), int64(1), object(4)\n",
      "memory usage: 13.1+ MB\n"
     ]
    }
   ],
   "source": [
    "df.info()"
   ]
  },
  {
   "cell_type": "code",
   "execution_count": 21,
   "metadata": {},
   "outputs": [
    {
     "data": {
      "text/plain": [
       "State_Name          0\n",
       "District_Name       0\n",
       "Crop_Year           0\n",
       "Season              0\n",
       "Crop                0\n",
       "Area                0\n",
       "Production       3730\n",
       "dtype: int64"
      ]
     },
     "execution_count": 21,
     "metadata": {},
     "output_type": "execute_result"
    }
   ],
   "source": [
    "df.isna().sum()"
   ]
  },
  {
   "cell_type": "code",
   "execution_count": 22,
   "metadata": {},
   "outputs": [],
   "source": [
    "df.dropna(axis=0, inplace=True)"
   ]
  },
  {
   "cell_type": "code",
   "execution_count": 23,
   "metadata": {},
   "outputs": [
    {
     "data": {
      "text/plain": [
       "(242361, 7)"
      ]
     },
     "execution_count": 23,
     "metadata": {},
     "output_type": "execute_result"
    }
   ],
   "source": [
    "df.shape"
   ]
  },
  {
   "cell_type": "code",
   "execution_count": 24,
   "metadata": {},
   "outputs": [
    {
     "data": {
      "text/plain": [
       "(242361, 7)"
      ]
     },
     "execution_count": 24,
     "metadata": {},
     "output_type": "execute_result"
    }
   ],
   "source": [
    "df.drop_duplicates(inplace=True)\n",
    "df[df['Area']!=0]\n",
    "df.shape"
   ]
  },
  {
   "cell_type": "markdown",
   "metadata": {},
   "source": [
    "#### strip all string values"
   ]
  },
  {
   "cell_type": "code",
   "execution_count": 25,
   "metadata": {},
   "outputs": [],
   "source": [
    "def transform(strVal):\n",
    "    arr = strVal.split('&')\n",
    "    return ' and '.join(arr)\n",
    "\n",
    "for col in df.columns:\n",
    "    if df[col].dtype == object:\n",
    "        df[col] = df[col].str.strip()\n",
    "        df[col] = df[col].apply(transform)"
   ]
  },
  {
   "cell_type": "markdown",
   "metadata": {},
   "source": [
    "#### unique counts of categorical features"
   ]
  },
  {
   "cell_type": "code",
   "execution_count": 26,
   "metadata": {},
   "outputs": [
    {
     "data": {
      "text/html": [
       "<div>\n",
       "<style scoped>\n",
       "    .dataframe tbody tr th:only-of-type {\n",
       "        vertical-align: middle;\n",
       "    }\n",
       "\n",
       "    .dataframe tbody tr th {\n",
       "        vertical-align: top;\n",
       "    }\n",
       "\n",
       "    .dataframe thead th {\n",
       "        text-align: right;\n",
       "    }\n",
       "</style>\n",
       "<table border=\"1\" class=\"dataframe\">\n",
       "  <thead>\n",
       "    <tr style=\"text-align: right;\">\n",
       "      <th></th>\n",
       "      <th>Categorical Features</th>\n",
       "      <th>Unique counts</th>\n",
       "    </tr>\n",
       "  </thead>\n",
       "  <tbody>\n",
       "    <tr>\n",
       "      <th>0</th>\n",
       "      <td>State_Name</td>\n",
       "      <td>33</td>\n",
       "    </tr>\n",
       "    <tr>\n",
       "      <th>1</th>\n",
       "      <td>District_Name</td>\n",
       "      <td>646</td>\n",
       "    </tr>\n",
       "    <tr>\n",
       "      <th>2</th>\n",
       "      <td>Crop_Year</td>\n",
       "      <td>19</td>\n",
       "    </tr>\n",
       "    <tr>\n",
       "      <th>3</th>\n",
       "      <td>Season</td>\n",
       "      <td>6</td>\n",
       "    </tr>\n",
       "    <tr>\n",
       "      <th>4</th>\n",
       "      <td>Crop</td>\n",
       "      <td>124</td>\n",
       "    </tr>\n",
       "  </tbody>\n",
       "</table>\n",
       "</div>"
      ],
      "text/plain": [
       "  Categorical Features  Unique counts\n",
       "0           State_Name             33\n",
       "1        District_Name            646\n",
       "2            Crop_Year             19\n",
       "3               Season              6\n",
       "4                 Crop            124"
      ]
     },
     "execution_count": 26,
     "metadata": {},
     "output_type": "execute_result"
    }
   ],
   "source": [
    "categorical_features = []\n",
    "for col in df.columns:\n",
    "    if df[col].dtype == object or df[col].dtype == np.int64:\n",
    "        categorical_features.append(col)\n",
    "unique_cnts = []\n",
    "for feature in categorical_features:\n",
    "    unique_cnts.append(len(df[feature].unique()))\n",
    "\n",
    "    \n",
    "totals_df = pd.DataFrame(dict({'Categorical Features':categorical_features\n",
    "                           ,'Unique counts':unique_cnts}))\n",
    "totals_df"
   ]
  },
  {
   "cell_type": "code",
   "execution_count": 27,
   "metadata": {},
   "outputs": [],
   "source": [
    "states = sorted(df['State_Name'].unique().tolist())\n",
    "districts = sorted(df['District_Name'].unique().tolist())\n",
    "yrs = sorted(df['Crop_Year'].unique().tolist())\n",
    "seasons = sorted(df['Season'].unique().tolist())\n",
    "crops = sorted(df['Crop'].unique().tolist())"
   ]
  },
  {
   "cell_type": "code",
   "execution_count": 14,
   "metadata": {},
   "outputs": [],
   "source": [
    "# df_bihar = df[df.State_Name=='Bihar'].copy()\n",
    "# df_bihar.shape"
   ]
  },
  {
   "cell_type": "markdown",
   "metadata": {},
   "source": [
    "### Label encode categorical feature and store mapping of each feature"
   ]
  },
  {
   "cell_type": "code",
   "execution_count": 28,
   "metadata": {},
   "outputs": [],
   "source": [
    "lencoder = LabelEncoder()\n",
    "df['State_Name'] = lencoder.fit_transform(df['State_Name'])\n",
    "le_State_Name_mapping = dict(zip(lencoder.classes_, map(int,lencoder.transform(lencoder.classes_))))\n",
    "df['District_Name'] = lencoder.fit_transform(df['District_Name'])\n",
    "le_District_Name_mapping = dict(zip(lencoder.classes_, map(int,lencoder.transform(lencoder.classes_))))\n",
    "df['Season'] = lencoder.fit_transform(df['Season'])\n",
    "le_Season_mapping = dict(zip(lencoder.classes_, map(int,lencoder.transform(lencoder.classes_))))\n",
    "df['Crop'] = lencoder.fit_transform(df['Crop'])\n",
    "le_Crop_mapping = dict(zip(lencoder.classes_, map(int,lencoder.transform(lencoder.classes_))))\n",
    "df['Crop_Year'] = lencoder.fit_transform(df['Crop_Year'])\n",
    "le_Crop_Year_mapping = dict(zip(map(int,lencoder.classes_), map(int,lencoder.transform(lencoder.classes_))))"
   ]
  },
  {
   "cell_type": "code",
   "execution_count": 29,
   "metadata": {},
   "outputs": [
    {
     "data": {
      "text/plain": [
       "{'Apple': 0,\n",
       " 'Arcanut (Processed)': 1,\n",
       " 'Arecanut': 2,\n",
       " 'Arhar/Tur': 3,\n",
       " 'Ash Gourd': 4,\n",
       " 'Atcanut (Raw)': 5,\n",
       " 'Bajra': 6,\n",
       " 'Banana': 7,\n",
       " 'Barley': 8,\n",
       " 'Bean': 9,\n",
       " 'Beans  and  Mutter(Vegetable)': 10,\n",
       " 'Beet Root': 11,\n",
       " 'Ber': 12,\n",
       " 'Bhindi': 13,\n",
       " 'Bitter Gourd': 14,\n",
       " 'Black pepper': 15,\n",
       " 'Blackgram': 16,\n",
       " 'Bottle Gourd': 17,\n",
       " 'Brinjal': 18,\n",
       " 'Cabbage': 19,\n",
       " 'Cardamom': 20,\n",
       " 'Carrot': 21,\n",
       " 'Cashewnut': 22,\n",
       " 'Cashewnut Processed': 23,\n",
       " 'Cashewnut Raw': 24,\n",
       " 'Castor seed': 25,\n",
       " 'Cauliflower': 26,\n",
       " 'Citrus Fruit': 27,\n",
       " 'Coconut': 28,\n",
       " 'Coffee': 29,\n",
       " 'Colocosia': 30,\n",
       " 'Cond-spcs other': 31,\n",
       " 'Coriander': 32,\n",
       " 'Cotton(lint)': 33,\n",
       " 'Cowpea(Lobia)': 34,\n",
       " 'Cucumber': 35,\n",
       " 'Drum Stick': 36,\n",
       " 'Dry chillies': 37,\n",
       " 'Dry ginger': 38,\n",
       " 'Garlic': 39,\n",
       " 'Ginger': 40,\n",
       " 'Gram': 41,\n",
       " 'Grapes': 42,\n",
       " 'Groundnut': 43,\n",
       " 'Guar seed': 44,\n",
       " 'Horse-gram': 45,\n",
       " 'Jack Fruit': 46,\n",
       " 'Jobster': 47,\n",
       " 'Jowar': 48,\n",
       " 'Jute': 49,\n",
       " 'Jute  and  mesta': 50,\n",
       " 'Kapas': 51,\n",
       " 'Khesari': 52,\n",
       " 'Korra': 53,\n",
       " 'Lab-Lab': 54,\n",
       " 'Lemon': 55,\n",
       " 'Lentil': 56,\n",
       " 'Linseed': 57,\n",
       " 'Litchi': 58,\n",
       " 'Maize': 59,\n",
       " 'Mango': 60,\n",
       " 'Masoor': 61,\n",
       " 'Mesta': 62,\n",
       " 'Moong(Green Gram)': 63,\n",
       " 'Moth': 64,\n",
       " 'Niger seed': 65,\n",
       " 'Oilseeds total': 66,\n",
       " 'Onion': 67,\n",
       " 'Orange': 68,\n",
       " 'Other  Rabi pulses': 69,\n",
       " 'Other Cereals  and  Millets': 70,\n",
       " 'Other Citrus Fruit': 71,\n",
       " 'Other Dry Fruit': 72,\n",
       " 'Other Fresh Fruits': 73,\n",
       " 'Other Kharif pulses': 74,\n",
       " 'Other Vegetables': 75,\n",
       " 'Paddy': 76,\n",
       " 'Papaya': 77,\n",
       " 'Peach': 78,\n",
       " 'Pear': 79,\n",
       " 'Peas  (vegetable)': 80,\n",
       " 'Peas  and  beans (Pulses)': 81,\n",
       " 'Perilla': 82,\n",
       " 'Pineapple': 83,\n",
       " 'Plums': 84,\n",
       " 'Pome Fruit': 85,\n",
       " 'Pome Granet': 86,\n",
       " 'Potato': 87,\n",
       " 'Pulses total': 88,\n",
       " 'Pump Kin': 89,\n",
       " 'Ragi': 90,\n",
       " 'Rajmash Kholar': 91,\n",
       " 'Rapeseed  and Mustard': 92,\n",
       " 'Redish': 93,\n",
       " 'Ribed Guard': 94,\n",
       " 'Rice': 95,\n",
       " 'Ricebean (nagadal)': 96,\n",
       " 'Rubber': 97,\n",
       " 'Safflower': 98,\n",
       " 'Samai': 99,\n",
       " 'Sannhamp': 100,\n",
       " 'Sapota': 101,\n",
       " 'Sesamum': 102,\n",
       " 'Small millets': 103,\n",
       " 'Snak Guard': 104,\n",
       " 'Soyabean': 105,\n",
       " 'Sugarcane': 106,\n",
       " 'Sunflower': 107,\n",
       " 'Sweet potato': 108,\n",
       " 'Tapioca': 109,\n",
       " 'Tea': 110,\n",
       " 'Tobacco': 111,\n",
       " 'Tomato': 112,\n",
       " 'Total foodgrain': 113,\n",
       " 'Turmeric': 114,\n",
       " 'Turnip': 115,\n",
       " 'Urad': 116,\n",
       " 'Varagu': 117,\n",
       " 'Water Melon': 118,\n",
       " 'Wheat': 119,\n",
       " 'Yam': 120,\n",
       " 'other fibres': 121,\n",
       " 'other misc. pulses': 122,\n",
       " 'other oilseeds': 123}"
      ]
     },
     "execution_count": 29,
     "metadata": {},
     "output_type": "execute_result"
    }
   ],
   "source": [
    "le_Crop_mapping"
   ]
  },
  {
   "cell_type": "code",
   "execution_count": 30,
   "metadata": {},
   "outputs": [
    {
     "data": {
      "text/plain": [
       "{'Autumn': 0,\n",
       " 'Kharif': 1,\n",
       " 'Rabi': 2,\n",
       " 'Summer': 3,\n",
       " 'Whole Year': 4,\n",
       " 'Winter': 5}"
      ]
     },
     "execution_count": 30,
     "metadata": {},
     "output_type": "execute_result"
    }
   ],
   "source": [
    "le_Season_mapping"
   ]
  },
  {
   "cell_type": "code",
   "execution_count": 31,
   "metadata": {},
   "outputs": [
    {
     "data": {
      "text/plain": [
       "{1997: 0,\n",
       " 1998: 1,\n",
       " 1999: 2,\n",
       " 2000: 3,\n",
       " 2001: 4,\n",
       " 2002: 5,\n",
       " 2003: 6,\n",
       " 2004: 7,\n",
       " 2005: 8,\n",
       " 2006: 9,\n",
       " 2007: 10,\n",
       " 2008: 11,\n",
       " 2009: 12,\n",
       " 2010: 13,\n",
       " 2011: 14,\n",
       " 2012: 15,\n",
       " 2013: 16,\n",
       " 2014: 17,\n",
       " 2015: 18}"
      ]
     },
     "execution_count": 31,
     "metadata": {},
     "output_type": "execute_result"
    }
   ],
   "source": [
    "le_Crop_Year_mapping"
   ]
  },
  {
   "cell_type": "markdown",
   "metadata": {},
   "source": [
    "### save mapping to json file"
   ]
  },
  {
   "cell_type": "code",
   "execution_count": 32,
   "metadata": {},
   "outputs": [],
   "source": [
    "mapping = {\"le_State_Name_mapping\":le_State_Name_mapping,\n",
    "           \"le_District_Name_mapping\":le_District_Name_mapping,\n",
    "           \"le_Season_mapping\":le_Season_mapping,\n",
    "           \"le_Crop_mapping\":le_Crop_mapping,\n",
    "           \"le_Crop_Year_mapping\":le_Crop_Year_mapping}"
   ]
  },
  {
   "cell_type": "code",
   "execution_count": 33,
   "metadata": {},
   "outputs": [],
   "source": [
    "json_obj = json.dumps(mapping,indent=4)\n",
    "with open('encoder_mapping.json', 'w') as outfile:\n",
    "    outfile.write(json_obj)"
   ]
  },
  {
   "cell_type": "code",
   "execution_count": 34,
   "metadata": {},
   "outputs": [
    {
     "data": {
      "text/html": [
       "<div>\n",
       "<style scoped>\n",
       "    .dataframe tbody tr th:only-of-type {\n",
       "        vertical-align: middle;\n",
       "    }\n",
       "\n",
       "    .dataframe tbody tr th {\n",
       "        vertical-align: top;\n",
       "    }\n",
       "\n",
       "    .dataframe thead th {\n",
       "        text-align: right;\n",
       "    }\n",
       "</style>\n",
       "<table border=\"1\" class=\"dataframe\">\n",
       "  <thead>\n",
       "    <tr style=\"text-align: right;\">\n",
       "      <th></th>\n",
       "      <th>State_Name</th>\n",
       "      <th>District_Name</th>\n",
       "      <th>Crop_Year</th>\n",
       "      <th>Season</th>\n",
       "      <th>Crop</th>\n",
       "      <th>Area</th>\n",
       "      <th>Production</th>\n",
       "    </tr>\n",
       "  </thead>\n",
       "  <tbody>\n",
       "    <tr>\n",
       "      <th>0</th>\n",
       "      <td>0</td>\n",
       "      <td>427</td>\n",
       "      <td>3</td>\n",
       "      <td>1</td>\n",
       "      <td>2</td>\n",
       "      <td>1254.0</td>\n",
       "      <td>2000.0</td>\n",
       "    </tr>\n",
       "    <tr>\n",
       "      <th>1</th>\n",
       "      <td>0</td>\n",
       "      <td>427</td>\n",
       "      <td>3</td>\n",
       "      <td>1</td>\n",
       "      <td>74</td>\n",
       "      <td>2.0</td>\n",
       "      <td>1.0</td>\n",
       "    </tr>\n",
       "    <tr>\n",
       "      <th>2</th>\n",
       "      <td>0</td>\n",
       "      <td>427</td>\n",
       "      <td>3</td>\n",
       "      <td>1</td>\n",
       "      <td>95</td>\n",
       "      <td>102.0</td>\n",
       "      <td>321.0</td>\n",
       "    </tr>\n",
       "    <tr>\n",
       "      <th>3</th>\n",
       "      <td>0</td>\n",
       "      <td>427</td>\n",
       "      <td>3</td>\n",
       "      <td>4</td>\n",
       "      <td>7</td>\n",
       "      <td>176.0</td>\n",
       "      <td>641.0</td>\n",
       "    </tr>\n",
       "    <tr>\n",
       "      <th>4</th>\n",
       "      <td>0</td>\n",
       "      <td>427</td>\n",
       "      <td>3</td>\n",
       "      <td>4</td>\n",
       "      <td>22</td>\n",
       "      <td>720.0</td>\n",
       "      <td>165.0</td>\n",
       "    </tr>\n",
       "  </tbody>\n",
       "</table>\n",
       "</div>"
      ],
      "text/plain": [
       "   State_Name  District_Name  Crop_Year  Season  Crop    Area  Production\n",
       "0           0            427          3       1     2  1254.0      2000.0\n",
       "1           0            427          3       1    74     2.0         1.0\n",
       "2           0            427          3       1    95   102.0       321.0\n",
       "3           0            427          3       4     7   176.0       641.0\n",
       "4           0            427          3       4    22   720.0       165.0"
      ]
     },
     "execution_count": 34,
     "metadata": {},
     "output_type": "execute_result"
    }
   ],
   "source": [
    "df.head()"
   ]
  },
  {
   "cell_type": "code",
   "execution_count": 35,
   "metadata": {},
   "outputs": [
    {
     "data": {
      "image/png": "[encoded data removed]",
      "text/plain": [
       "<Figure size 432x288 with 2 Axes>"
      ]
     },
     "metadata": {
      "needs_background": "light"
     },
     "output_type": "display_data"
    }
   ],
   "source": [
    "corrMatrix = df.corr()\n",
    "sns.heatmap(corrMatrix, annot=True)\n",
    "plt.show()"
   ]
  },
  {
   "cell_type": "code",
   "execution_count": 36,
   "metadata": {},
   "outputs": [
    {
     "name": "stdout",
     "output_type": "stream",
     "text": [
      "Index(['State_Name', 'District_Name', 'Crop_Year', 'Season', 'Crop', 'Area'], dtype='object')\n"
     ]
    }
   ],
   "source": [
    "features = df.columns[:-1]\n",
    "print(features)\n",
    "X = df[features]\n",
    "y = df['Production']"
   ]
  },
  {
   "cell_type": "markdown",
   "metadata": {},
   "source": [
    "### split and fit data"
   ]
  },
  {
   "cell_type": "code",
   "execution_count": 37,
   "metadata": {},
   "outputs": [],
   "source": [
    "X_train, X_test, y_train, y_test = train_test_split(X, y, test_size=0.2, random_state=0)"
   ]
  },
  {
   "cell_type": "code",
   "execution_count": 38,
   "metadata": {},
   "outputs": [
    {
     "name": "stdout",
     "output_type": "stream",
     "text": [
      "r2_score                       0.9713349919799457\n",
      "Mean absolute error            85527.9051203144\n",
      "Mean squared error             6205327456407.957\n",
      "Root Mean square error         2491049.468880126\n"
     ]
    }
   ],
   "source": [
    "model = RandomForestRegressor(n_estimators=20, n_jobs=-1, criterion='mse', max_features=2 ,random_state=0)\n",
    "model.fit(X_train, y_train)\n",
    "y_pred = model.predict(X_test)\n",
    "\n",
    "r2_scr = r2_score(y_test,y_pred)\n",
    "mae = mean_absolute_error(y_test, y_pred)\n",
    "mse = mean_squared_error(y_test, y_pred)\n",
    "rmse = np.sqrt(mse)\n",
    "\n",
    "\n",
    "print('{:<30} {:>10}'.format('r2_score',r2_scr))\n",
    "print('{:<30} {:>10}'.format('Mean absolute error',mae))\n",
    "print('{:<30} {:>10}'.format('Mean squared error',mse))\n",
    "print('{:<30} {:>10}'.format('Root Mean square error',rmse))"
   ]
  },
  {
   "cell_type": "code",
   "execution_count": 39,
   "metadata": {},
   "outputs": [
    {
     "data": {
      "text/plain": [
       "0.9713349919799457"
      ]
     },
     "execution_count": 39,
     "metadata": {},
     "output_type": "execute_result"
    }
   ],
   "source": [
    "model.score(X_test, y_test)"
   ]
  },
  {
   "cell_type": "code",
   "execution_count": 40,
   "metadata": {},
   "outputs": [
    {
     "data": {
      "text/plain": [
       "0.9892664873876678"
      ]
     },
     "execution_count": 40,
     "metadata": {},
     "output_type": "execute_result"
    }
   ],
   "source": [
    "model.score(X_train, y_train)"
   ]
  },
  {
   "cell_type": "markdown",
   "metadata": {},
   "source": [
    "### saving model with joblib"
   ]
  },
  {
   "cell_type": "code",
   "execution_count": 41,
   "metadata": {},
   "outputs": [
    {
     "data": {
      "text/plain": [
       "['yp_RF_model.sav']"
      ]
     },
     "execution_count": 41,
     "metadata": {},
     "output_type": "execute_result"
    }
   ],
   "source": [
    "filename = 'yp_RF_model.sav'\n",
    "joblib.dump(model, filename)"
   ]
  },
  {
   "cell_type": "code",
   "execution_count": 29,
   "metadata": {},
   "outputs": [],
   "source": [
    "# load model from disk\n",
    "# loaded_model = joblib.load(filename)\n",
    "# result = loaded_model.score(X_test, Y_test)\n",
    "# print(result)"
   ]
  },
  {
   "cell_type": "markdown",
   "metadata": {},
   "source": [
    "### feature importance"
   ]
  },
  {
   "cell_type": "code",
   "execution_count": 42,
   "metadata": {},
   "outputs": [
    {
     "data": {
      "text/plain": [
       "Area             0.332566\n",
       "State_Name       0.203981\n",
       "Crop             0.198099\n",
       "District_Name    0.101307\n",
       "Season           0.099721\n",
       "Crop_Year        0.064326\n",
       "dtype: float64"
      ]
     },
     "execution_count": 42,
     "metadata": {},
     "output_type": "execute_result"
    }
   ],
   "source": [
    "feature_imp = model.feature_importances_\n",
    "labels = X_train.columns.to_list()\n",
    "df_feature = pd.Series(feature_imp, index=labels).sort_values(ascending=False)\n",
    "df_feature"
   ]
  },
  {
   "cell_type": "code",
   "execution_count": 43,
   "metadata": {},
   "outputs": [
    {
     "data": {
      "image/png": "[encoded data removed]",
      "text/plain": [
       "<Figure size 432x288 with 1 Axes>"
      ]
     },
     "metadata": {
      "needs_background": "light"
     },
     "output_type": "display_data"
    }
   ],
   "source": [
    "sns.barplot(x = df_feature, y = df_feature.index)\n",
    "plt.xlabel('Feature Importance Score')\n",
    "plt.ylabel('Features')\n",
    "plt.title(\"Visualizing Important Features\")\n",
    "plt.show()"
   ]
  },
  {
   "cell_type": "markdown",
   "metadata": {},
   "source": [
    "### permuted importance of features"
   ]
  },
  {
   "cell_type": "code",
   "execution_count": 44,
   "metadata": {},
   "outputs": [],
   "source": [
    "r = permutation_importance(model, X_test, y_test,\n",
    "                               n_repeats=15,\n",
    "                               random_state=1)"
   ]
  },
  {
   "cell_type": "code",
   "execution_count": 45,
   "metadata": {},
   "outputs": [
    {
     "name": "stdout",
     "output_type": "stream",
     "text": [
      "Area                1.178 +/- 0.043\n",
      "Crop                0.881 +/- 0.046\n",
      "State_Name          0.404 +/- 0.071\n",
      "Season              0.250 +/- 0.025\n",
      "District_Name       0.153 +/- 0.025\n",
      "Crop_Year           0.100 +/- 0.039\n"
     ]
    }
   ],
   "source": [
    "for i in r.importances_mean.argsort()[::-1]:\n",
    "        if r.importances_mean[i] - 2 * r.importances_std[i] > 0:\n",
    "            print(f\"{df.columns[i]:<20}\"\n",
    "                  f\"{r.importances_mean[i]:.3f}\"\n",
    "                  f\" +/- {r.importances_std[i]:.3f}\")"
   ]
  },
  {
   "cell_type": "markdown",
   "metadata": {},
   "source": [
    "### Prediction  "
   ]
  },
  {
   "cell_type": "code",
   "execution_count": 46,
   "metadata": {},
   "outputs": [
    {
     "name": "stdout",
     "output_type": "stream",
     "text": [
      "Index(['State_Name', 'District_Name', 'Crop_Year', 'Season', 'Crop', 'Area'], dtype='object')\n"
     ]
    },
    {
     "data": {
      "text/html": [
       "<div>\n",
       "<style scoped>\n",
       "    .dataframe tbody tr th:only-of-type {\n",
       "        vertical-align: middle;\n",
       "    }\n",
       "\n",
       "    .dataframe tbody tr th {\n",
       "        vertical-align: top;\n",
       "    }\n",
       "\n",
       "    .dataframe thead th {\n",
       "        text-align: right;\n",
       "    }\n",
       "</style>\n",
       "<table border=\"1\" class=\"dataframe\">\n",
       "  <thead>\n",
       "    <tr style=\"text-align: right;\">\n",
       "      <th></th>\n",
       "      <th>State_Name</th>\n",
       "      <th>District_Name</th>\n",
       "      <th>Crop_Year</th>\n",
       "      <th>Season</th>\n",
       "      <th>Crop</th>\n",
       "      <th>Area</th>\n",
       "    </tr>\n",
       "  </thead>\n",
       "  <tbody>\n",
       "    <tr>\n",
       "      <th>0</th>\n",
       "      <td>4</td>\n",
       "      <td>402</td>\n",
       "      <td>3</td>\n",
       "      <td>1</td>\n",
       "      <td>7</td>\n",
       "      <td>80</td>\n",
       "    </tr>\n",
       "  </tbody>\n",
       "</table>\n",
       "</div>"
      ],
      "text/plain": [
       "   State_Name  District_Name  Crop_Year  Season  Crop  Area\n",
       "0           4            402          3       1     7    80"
      ]
     },
     "execution_count": 46,
     "metadata": {},
     "output_type": "execute_result"
    }
   ],
   "source": [
    "print(df.columns[:-1])\n",
    "state = le_State_Name_mapping['Bihar']\n",
    "district = le_District_Name_mapping['MUZAFFARPUR']\n",
    "yr = le_Crop_Year_mapping[2000]\n",
    "season = le_Season_mapping['Kharif']\n",
    "crop = le_Crop_mapping['Banana']\n",
    "area = 80\n",
    "row = [[state, district, yr, season, crop, area]]\n",
    "data = pd.DataFrame(data=row, columns=df.columns[:-1].tolist())\n",
    "data"
   ]
  },
  {
   "cell_type": "code",
   "execution_count": 47,
   "metadata": {},
   "outputs": [
    {
     "data": {
      "text/plain": [
       "array([581.35])"
      ]
     },
     "execution_count": 47,
     "metadata": {},
     "output_type": "execute_result"
    }
   ],
   "source": [
    "model.predict(np.array(row))"
   ]
  },
  {
   "cell_type": "code",
   "execution_count": 48,
   "metadata": {
    "scrolled": true
   },
   "outputs": [
    {
     "data": {
      "text/html": [
       "<div>\n",
       "<style scoped>\n",
       "    .dataframe tbody tr th:only-of-type {\n",
       "        vertical-align: middle;\n",
       "    }\n",
       "\n",
       "    .dataframe tbody tr th {\n",
       "        vertical-align: top;\n",
       "    }\n",
       "\n",
       "    .dataframe thead th {\n",
       "        text-align: right;\n",
       "    }\n",
       "</style>\n",
       "<table border=\"1\" class=\"dataframe\">\n",
       "  <thead>\n",
       "    <tr style=\"text-align: right;\">\n",
       "      <th></th>\n",
       "      <th>State_Name</th>\n",
       "      <th>District_Name</th>\n",
       "      <th>Crop_Year</th>\n",
       "      <th>Season</th>\n",
       "      <th>Crop</th>\n",
       "      <th>Area</th>\n",
       "      <th>Production</th>\n",
       "    </tr>\n",
       "  </thead>\n",
       "  <tbody>\n",
       "    <tr>\n",
       "      <th>37261</th>\n",
       "      <td>Bihar</td>\n",
       "      <td>MUZAFFARPUR</td>\n",
       "      <td>1997</td>\n",
       "      <td>Whole Year</td>\n",
       "      <td>Banana</td>\n",
       "      <td>744.0</td>\n",
       "      <td>25653.0</td>\n",
       "    </tr>\n",
       "    <tr>\n",
       "      <th>37296</th>\n",
       "      <td>Bihar</td>\n",
       "      <td>MUZAFFARPUR</td>\n",
       "      <td>1998</td>\n",
       "      <td>Whole Year</td>\n",
       "      <td>Banana</td>\n",
       "      <td>804.0</td>\n",
       "      <td>16088.0</td>\n",
       "    </tr>\n",
       "    <tr>\n",
       "      <th>37333</th>\n",
       "      <td>Bihar</td>\n",
       "      <td>MUZAFFARPUR</td>\n",
       "      <td>1999</td>\n",
       "      <td>Whole Year</td>\n",
       "      <td>Banana</td>\n",
       "      <td>715.0</td>\n",
       "      <td>5527.0</td>\n",
       "    </tr>\n",
       "    <tr>\n",
       "      <th>37368</th>\n",
       "      <td>Bihar</td>\n",
       "      <td>MUZAFFARPUR</td>\n",
       "      <td>2000</td>\n",
       "      <td>Whole Year</td>\n",
       "      <td>Banana</td>\n",
       "      <td>753.0</td>\n",
       "      <td>3517.0</td>\n",
       "    </tr>\n",
       "    <tr>\n",
       "      <th>37436</th>\n",
       "      <td>Bihar</td>\n",
       "      <td>MUZAFFARPUR</td>\n",
       "      <td>2002</td>\n",
       "      <td>Whole Year</td>\n",
       "      <td>Banana</td>\n",
       "      <td>605.0</td>\n",
       "      <td>5971.0</td>\n",
       "    </tr>\n",
       "    <tr>\n",
       "      <th>37473</th>\n",
       "      <td>Bihar</td>\n",
       "      <td>MUZAFFARPUR</td>\n",
       "      <td>2003</td>\n",
       "      <td>Whole Year</td>\n",
       "      <td>Banana</td>\n",
       "      <td>673.0</td>\n",
       "      <td>4011.0</td>\n",
       "    </tr>\n",
       "    <tr>\n",
       "      <th>37509</th>\n",
       "      <td>Bihar</td>\n",
       "      <td>MUZAFFARPUR</td>\n",
       "      <td>2004</td>\n",
       "      <td>Whole Year</td>\n",
       "      <td>Banana</td>\n",
       "      <td>553.0</td>\n",
       "      <td>5016.0</td>\n",
       "    </tr>\n",
       "    <tr>\n",
       "      <th>37546</th>\n",
       "      <td>Bihar</td>\n",
       "      <td>MUZAFFARPUR</td>\n",
       "      <td>2005</td>\n",
       "      <td>Whole Year</td>\n",
       "      <td>Banana</td>\n",
       "      <td>329.0</td>\n",
       "      <td>2109.0</td>\n",
       "    </tr>\n",
       "    <tr>\n",
       "      <th>37602</th>\n",
       "      <td>Bihar</td>\n",
       "      <td>MUZAFFARPUR</td>\n",
       "      <td>2007</td>\n",
       "      <td>Whole Year</td>\n",
       "      <td>Banana</td>\n",
       "      <td>446.0</td>\n",
       "      <td>2997.0</td>\n",
       "    </tr>\n",
       "  </tbody>\n",
       "</table>\n",
       "</div>"
      ],
      "text/plain": [
       "      State_Name District_Name  Crop_Year       Season    Crop   Area  \\\n",
       "37261      Bihar   MUZAFFARPUR       1997  Whole Year   Banana  744.0   \n",
       "37296      Bihar   MUZAFFARPUR       1998  Whole Year   Banana  804.0   \n",
       "37333      Bihar   MUZAFFARPUR       1999  Whole Year   Banana  715.0   \n",
       "37368      Bihar   MUZAFFARPUR       2000  Whole Year   Banana  753.0   \n",
       "37436      Bihar   MUZAFFARPUR       2002  Whole Year   Banana  605.0   \n",
       "37473      Bihar   MUZAFFARPUR       2003  Whole Year   Banana  673.0   \n",
       "37509      Bihar   MUZAFFARPUR       2004  Whole Year   Banana  553.0   \n",
       "37546      Bihar   MUZAFFARPUR       2005  Whole Year   Banana  329.0   \n",
       "37602      Bihar   MUZAFFARPUR       2007  Whole Year   Banana  446.0   \n",
       "\n",
       "       Production  \n",
       "37261     25653.0  \n",
       "37296     16088.0  \n",
       "37333      5527.0  \n",
       "37368      3517.0  \n",
       "37436      5971.0  \n",
       "37473      4011.0  \n",
       "37509      5016.0  \n",
       "37546      2109.0  \n",
       "37602      2997.0  "
      ]
     },
     "execution_count": 48,
     "metadata": {},
     "output_type": "execute_result"
    }
   ],
   "source": [
    "temp = original_df[original_df['State_Name']=='Bihar']\n",
    "temp = temp[temp['District_Name']=='MUZAFFARPUR']\n",
    "# temp = temp[temp['Crop_Year']==2000]\n",
    "# temp = temp[temp['Season']=='Kharif']\n",
    "temp = temp[temp['Crop']=='Banana']\n",
    "temp"
   ]
  },
  {
   "cell_type": "markdown",
   "metadata": {},
   "source": [
    "# --------------------------------------------------------------------------Hurray  \\\\(-_-)/"
   ]
  },
  {
   "cell_type": "markdown",
   "metadata": {},
   "source": [
    "## deleting least important feature -> 'Crop_Year'\n",
    "#### and retraining model with remaining features"
   ]
  },
  {
   "cell_type": "code",
   "execution_count": 26,
   "metadata": {},
   "outputs": [],
   "source": [
    "new_df = df.copy()"
   ]
  },
  {
   "cell_type": "code",
   "execution_count": 27,
   "metadata": {},
   "outputs": [
    {
     "data": {
      "text/html": [
       "<div>\n",
       "<style scoped>\n",
       "    .dataframe tbody tr th:only-of-type {\n",
       "        vertical-align: middle;\n",
       "    }\n",
       "\n",
       "    .dataframe tbody tr th {\n",
       "        vertical-align: top;\n",
       "    }\n",
       "\n",
       "    .dataframe thead th {\n",
       "        text-align: right;\n",
       "    }\n",
       "</style>\n",
       "<table border=\"1\" class=\"dataframe\">\n",
       "  <thead>\n",
       "    <tr style=\"text-align: right;\">\n",
       "      <th></th>\n",
       "      <th>State_Name</th>\n",
       "      <th>District_Name</th>\n",
       "      <th>Crop_Year</th>\n",
       "      <th>Season</th>\n",
       "      <th>Crop</th>\n",
       "      <th>Area</th>\n",
       "      <th>Production</th>\n",
       "    </tr>\n",
       "  </thead>\n",
       "  <tbody>\n",
       "    <tr>\n",
       "      <th>0</th>\n",
       "      <td>0</td>\n",
       "      <td>427</td>\n",
       "      <td>3</td>\n",
       "      <td>1</td>\n",
       "      <td>2</td>\n",
       "      <td>1254.0</td>\n",
       "      <td>2000.0</td>\n",
       "    </tr>\n",
       "    <tr>\n",
       "      <th>1</th>\n",
       "      <td>0</td>\n",
       "      <td>427</td>\n",
       "      <td>3</td>\n",
       "      <td>1</td>\n",
       "      <td>74</td>\n",
       "      <td>2.0</td>\n",
       "      <td>1.0</td>\n",
       "    </tr>\n",
       "    <tr>\n",
       "      <th>2</th>\n",
       "      <td>0</td>\n",
       "      <td>427</td>\n",
       "      <td>3</td>\n",
       "      <td>1</td>\n",
       "      <td>95</td>\n",
       "      <td>102.0</td>\n",
       "      <td>321.0</td>\n",
       "    </tr>\n",
       "    <tr>\n",
       "      <th>3</th>\n",
       "      <td>0</td>\n",
       "      <td>427</td>\n",
       "      <td>3</td>\n",
       "      <td>4</td>\n",
       "      <td>7</td>\n",
       "      <td>176.0</td>\n",
       "      <td>641.0</td>\n",
       "    </tr>\n",
       "    <tr>\n",
       "      <th>4</th>\n",
       "      <td>0</td>\n",
       "      <td>427</td>\n",
       "      <td>3</td>\n",
       "      <td>4</td>\n",
       "      <td>22</td>\n",
       "      <td>720.0</td>\n",
       "      <td>165.0</td>\n",
       "    </tr>\n",
       "  </tbody>\n",
       "</table>\n",
       "</div>"
      ],
      "text/plain": [
       "   State_Name  District_Name  Crop_Year  Season  Crop    Area  Production\n",
       "0           0            427          3       1     2  1254.0      2000.0\n",
       "1           0            427          3       1    74     2.0         1.0\n",
       "2           0            427          3       1    95   102.0       321.0\n",
       "3           0            427          3       4     7   176.0       641.0\n",
       "4           0            427          3       4    22   720.0       165.0"
      ]
     },
     "execution_count": 27,
     "metadata": {},
     "output_type": "execute_result"
    }
   ],
   "source": [
    "new_df.head()"
   ]
  },
  {
   "cell_type": "code",
   "execution_count": 28,
   "metadata": {
    "scrolled": true
   },
   "outputs": [],
   "source": [
    "new_df.drop(['Crop_Year','District_Name'], axis=1,inplace=True)"
   ]
  },
  {
   "cell_type": "code",
   "execution_count": 29,
   "metadata": {},
   "outputs": [
    {
     "name": "stdout",
     "output_type": "stream",
     "text": [
      "Index(['State_Name', 'Season', 'Crop', 'Area'], dtype='object')\n"
     ]
    }
   ],
   "source": [
    "features = new_df.columns[:-1]\n",
    "print(features)\n",
    "X = new_df[features]\n",
    "y = new_df['Production']"
   ]
  },
  {
   "cell_type": "code",
   "execution_count": 30,
   "metadata": {},
   "outputs": [],
   "source": [
    "X_train, X_test, y_train, y_test = train_test_split(X, y, test_size=0.2, random_state=0)"
   ]
  },
  {
   "cell_type": "code",
   "execution_count": 31,
   "metadata": {},
   "outputs": [
    {
     "name": "stdout",
     "output_type": "stream",
     "text": [
      "r2_score                       0.8635109474361019\n",
      "Mean absolute error            165510.8207776426\n",
      "Mean squared error             29546800223510.234\n",
      "Root Mean square error         5435696.848014083\n"
     ]
    }
   ],
   "source": [
    "new_model = RandomForestRegressor(n_estimators=10, n_jobs=-1, criterion='mse', max_features=2 ,random_state=1)\n",
    "new_model.fit(X_train, y_train)\n",
    "y_pred = new_model.predict(X_test)\n",
    "\n",
    "r2_sco = r2_score(y_test,y_pred)\n",
    "mae = mean_absolute_error(y_test, y_pred)\n",
    "mse = mean_squared_error(y_test, y_pred)\n",
    "rmse = np.sqrt(mse)\n",
    "\n",
    "\n",
    "print('{:<30} {:>10}'.format('r2_score',r2_sco))\n",
    "print('{:<30} {:>10}'.format('Mean absolute error',mae))\n",
    "print('{:<30} {:>10}'.format('Mean squared error',mse))\n",
    "print('{:<30} {:>10}'.format('Root Mean square error',rmse))"
   ]
  },
  {
   "cell_type": "code",
   "execution_count": 32,
   "metadata": {},
   "outputs": [
    {
     "data": {
      "text/plain": [
       "0.8635109474361019"
      ]
     },
     "execution_count": 32,
     "metadata": {},
     "output_type": "execute_result"
    }
   ],
   "source": [
    "new_model.score(X_test, y_test)"
   ]
  },
  {
   "cell_type": "markdown",
   "metadata": {},
   "source": [
    "#### accuracy got decreased even when feature 'Crop_Year' was removed , so all features are important\n",
    "#### so saving earlier model"
   ]
  },
  {
   "cell_type": "code",
   "execution_count": 33,
   "metadata": {},
   "outputs": [
    {
     "name": "stdout",
     "output_type": "stream",
     "text": [
      "<class 'numpy.ndarray'>\n",
      "<class 'numpy.ndarray'>\n"
     ]
    }
   ],
   "source": [
    "print(type(np.array(y_test)))\n",
    "print(type(y_pred))\n",
    "aa = np.array(y_test)\n",
    "bb = y_pred"
   ]
  },
  {
   "cell_type": "code",
   "execution_count": 34,
   "metadata": {},
   "outputs": [
    {
     "name": "stdout",
     "output_type": "stream",
     "text": [
      "Actual     Predicted  abs diff   \n",
      "\n",
      "1959.0     1382.6     576.4     \n",
      "933.0      1340.8     407.8     \n",
      "1241.0     941.6      299.4     \n",
      "18.0       17.9       0.1       \n",
      "258.0      308.2      50.2      \n",
      "52.0       55.3       3.3       \n",
      "6.0        8.3        2.3       \n",
      "3322.0     3262.7     59.3      \n",
      "495.0      709.8      214.8     \n",
      "321.0      580.4      259.4     \n",
      "6718.0     9822.3     3104.3    \n",
      "45.0       26.3       18.7      \n",
      "791.0      517.9      273.1     \n",
      "892.0      454.5      437.5     \n",
      "481.0      583.3      102.3     \n",
      "2030.0     2643.4     613.4     \n",
      "715.0      568.3      146.7     \n",
      "15.0       11.4       3.6       \n",
      "630.0      329.2      300.8     \n",
      "2219937.0  2574107.1  354170.1  \n"
     ]
    }
   ],
   "source": [
    "print('{:<10} {:<10} {:<10} \\n'.format('Actual','Predicted','abs diff'))\n",
    "for i in range(20):\n",
    "    print('{:<10} {:<10} {:<10}'.format(round(aa[i],1), round(bb[i],1), round(abs(aa[i]-bb[i]),1)))"
   ]
  },
  {
   "cell_type": "code",
   "execution_count": 35,
   "metadata": {},
   "outputs": [],
   "source": [
    "query = pd.DataFrame()"
   ]
  },
  {
   "cell_type": "code",
   "execution_count": null,
   "metadata": {},
   "outputs": [],
   "source": []
  },
  {
   "cell_type": "code",
   "execution_count": null,
   "metadata": {},
   "outputs": [],
   "source": []
  },
  {
   "cell_type": "code",
   "execution_count": null,
   "metadata": {},
   "outputs": [],
   "source": []
  }
 ],
 "metadata": {
  "kernelspec": {
   "display_name": "Python 3",
   "language": "python",
   "name": "python3"
  },
  "language_info": {
   "codemirror_mode": {
    "name": "ipython",
    "version": 3
   },
   "file_extension": ".py",
   "mimetype": "text/x-python",
   "name": "python",
   "nbconvert_exporter": "python",
   "pygments_lexer": "ipython3",
   "version": "3.8.5"
  },
  "latex_envs": {
   "LaTeX_envs_menu_present": true,
   "autoclose": false,
   "autocomplete": true,
   "bibliofile": "biblio.bib",
   "cite_by": "apalike",
   "current_citInitial": 1,
   "eqLabelWithNumbers": true,
   "eqNumInitial": 1,
   "hotkeys": {
    "equation": "Ctrl-E",
    "itemize": "Ctrl-I"
   },
   "labels_anchors": false,
   "latex_user_defs": false,
   "report_style_numbering": false,
   "user_envs_cfg": false
  }
 },
 "nbformat": 4,
 "nbformat_minor": 4
}
